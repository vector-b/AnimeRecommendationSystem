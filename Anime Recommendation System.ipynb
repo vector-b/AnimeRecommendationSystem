{
 "cells": [
  {
   "cell_type": "code",
   "execution_count": 1,
   "metadata": {},
   "outputs": [],
   "source": [
    "#!pip install kaggle"
   ]
  },
  {
   "cell_type": "markdown",
   "metadata": {},
   "source": [
    "## Imports e Especificações de Libs"
   ]
  },
  {
   "cell_type": "code",
   "execution_count": 16,
   "metadata": {},
   "outputs": [],
   "source": [
    "import pandas as pd \n",
    "import numpy as np \n",
    "import difflib\n",
    "from sklearn.metrics.pairwise import cosine_similarity\n",
    "from sklearn.feature_extraction.text import TfidfVectorizer, CountVectorizer"
   ]
  },
  {
   "cell_type": "markdown",
   "metadata": {},
   "source": [
    "## EDA"
   ]
  },
  {
   "cell_type": "code",
   "execution_count": 3,
   "metadata": {},
   "outputs": [],
   "source": [
    "path_to_data = r\"data/\""
   ]
  },
  {
   "cell_type": "code",
   "execution_count": 4,
   "metadata": {},
   "outputs": [],
   "source": [
    "user_review = pd.read_csv(f'{path_to_data}animelist.csv')\n",
    "anime_list = pd.read_csv(f'{path_to_data}anime.csv')\n",
    "anime_description = pd.read_csv(f'{path_to_data}anime_with_synopsis.csv')"
   ]
  },
  {
   "cell_type": "code",
   "execution_count": 5,
   "metadata": {},
   "outputs": [
    {
     "data": {
      "text/plain": [
       "325770"
      ]
     },
     "execution_count": 5,
     "metadata": {},
     "output_type": "execute_result"
    }
   ],
   "source": [
    "#How many users\n",
    "len(user_review.user_id.unique())"
   ]
  },
  {
   "cell_type": "code",
   "execution_count": 14,
   "metadata": {},
   "outputs": [
    {
     "data": {
      "text/plain": [
       "'for index, row in user_review.iterrows():\\n    print(index,row)\\n    if(index > 10):\\n        break'"
      ]
     },
     "execution_count": 14,
     "metadata": {},
     "output_type": "execute_result"
    }
   ],
   "source": [
    "#Showing first 10 anime ratings\n",
    "'''for index, row in user_review.iterrows():\n",
    "    print(index,row)\n",
    "    if(index > 10):\n",
    "        break'''"
   ]
  },
  {
   "cell_type": "code",
   "execution_count": 8,
   "metadata": {},
   "outputs": [],
   "source": [
    "anime_full = pd.merge(anime_list, anime_description[[\"MAL_ID\",\"sypnopsis\"]], how='inner', on=\"MAL_ID\")"
   ]
  },
  {
   "cell_type": "code",
   "execution_count": 9,
   "metadata": {},
   "outputs": [
    {
     "data": {
      "text/plain": [
       "Index(['MAL_ID', 'Name', 'Score', 'Genres', 'sypnopsis'], dtype='object')"
      ]
     },
     "execution_count": 9,
     "metadata": {},
     "output_type": "execute_result"
    }
   ],
   "source": [
    "anime_description.columns"
   ]
  },
  {
   "cell_type": "markdown",
   "metadata": {},
   "source": [
    "Missing Data"
   ]
  },
  {
   "cell_type": "code",
   "execution_count": 10,
   "metadata": {},
   "outputs": [
    {
     "data": {
      "text/plain": [
       "Score-4      0\n",
       "Score-3      0\n",
       "Score-2      0\n",
       "Score-1      0\n",
       "sypnopsis    8\n",
       "dtype: int64"
      ]
     },
     "execution_count": 10,
     "metadata": {},
     "output_type": "execute_result"
    }
   ],
   "source": [
    "anime_full.isnull().sum().tail(5)"
   ]
  },
  {
   "cell_type": "markdown",
   "metadata": {},
   "source": [
    "Choosing Features"
   ]
  },
  {
   "cell_type": "code",
   "execution_count": 17,
   "metadata": {},
   "outputs": [
    {
     "data": {
      "text/plain": [
       "Index(['MAL_ID', 'Name', 'Score', 'Genres', 'English name', 'Japanese name',\n",
       "       'Type', 'Episodes', 'Aired', 'Premiered', 'Producers', 'Licensors',\n",
       "       'Studios', 'Source', 'Duration', 'Rating', 'Ranked', 'Popularity',\n",
       "       'Members', 'Favorites', 'Watching', 'Completed', 'On-Hold', 'Dropped',\n",
       "       'Plan to Watch', 'Score-10', 'Score-9', 'Score-8', 'Score-7', 'Score-6',\n",
       "       'Score-5', 'Score-4', 'Score-3', 'Score-2', 'Score-1', 'sypnopsis'],\n",
       "      dtype='object')"
      ]
     },
     "execution_count": 17,
     "metadata": {},
     "output_type": "execute_result"
    }
   ],
   "source": [
    "anime_full.columns"
   ]
  },
  {
   "cell_type": "code",
   "execution_count": 76,
   "metadata": {},
   "outputs": [
    {
     "data": {
      "text/html": [
       "<div>\n",
       "<style scoped>\n",
       "    .dataframe tbody tr th:only-of-type {\n",
       "        vertical-align: middle;\n",
       "    }\n",
       "\n",
       "    .dataframe tbody tr th {\n",
       "        vertical-align: top;\n",
       "    }\n",
       "\n",
       "    .dataframe thead th {\n",
       "        text-align: right;\n",
       "    }\n",
       "</style>\n",
       "<table border=\"1\" class=\"dataframe\">\n",
       "  <thead>\n",
       "    <tr style=\"text-align: right;\">\n",
       "      <th></th>\n",
       "      <th>MAL_ID</th>\n",
       "      <th>Name</th>\n",
       "      <th>Score</th>\n",
       "      <th>Genres</th>\n",
       "      <th>English name</th>\n",
       "      <th>Japanese name</th>\n",
       "      <th>Type</th>\n",
       "      <th>Episodes</th>\n",
       "      <th>Aired</th>\n",
       "      <th>Premiered</th>\n",
       "      <th>...</th>\n",
       "      <th>Score-9</th>\n",
       "      <th>Score-8</th>\n",
       "      <th>Score-7</th>\n",
       "      <th>Score-6</th>\n",
       "      <th>Score-5</th>\n",
       "      <th>Score-4</th>\n",
       "      <th>Score-3</th>\n",
       "      <th>Score-2</th>\n",
       "      <th>Score-1</th>\n",
       "      <th>sypnopsis</th>\n",
       "    </tr>\n",
       "  </thead>\n",
       "  <tbody>\n",
       "    <tr>\n",
       "      <th>12656</th>\n",
       "      <td>36774</td>\n",
       "      <td>Star Wars/Saigo no Jedai: Tokubetsu Eizou</td>\n",
       "      <td>5.1</td>\n",
       "      <td>Sci-Fi, Parody</td>\n",
       "      <td>Unknown</td>\n",
       "      <td>『スター・ウォーズ／最後のジェダイ』特別映像</td>\n",
       "      <td>ONA</td>\n",
       "      <td>1</td>\n",
       "      <td>Nov 8, 2017</td>\n",
       "      <td>Unknown</td>\n",
       "      <td>...</td>\n",
       "      <td>1.0</td>\n",
       "      <td>5.0</td>\n",
       "      <td>13.0</td>\n",
       "      <td>31.0</td>\n",
       "      <td>53.0</td>\n",
       "      <td>36.0</td>\n",
       "      <td>21.0</td>\n",
       "      <td>14.0</td>\n",
       "      <td>19.0</td>\n",
       "      <td>promotional video for Star Wars: The Last Jedi...</td>\n",
       "    </tr>\n",
       "  </tbody>\n",
       "</table>\n",
       "<p>1 rows × 36 columns</p>\n",
       "</div>"
      ],
      "text/plain": [
       "       MAL_ID                                       Name Score  \\\n",
       "12656   36774  Star Wars/Saigo no Jedai: Tokubetsu Eizou   5.1   \n",
       "\n",
       "               Genres English name           Japanese name Type Episodes  \\\n",
       "12656  Sci-Fi, Parody      Unknown  『スター・ウォーズ／最後のジェダイ』特別映像  ONA        1   \n",
       "\n",
       "             Aired Premiered  ... Score-9 Score-8 Score-7 Score-6 Score-5  \\\n",
       "12656  Nov 8, 2017   Unknown  ...     1.0     5.0    13.0    31.0    53.0   \n",
       "\n",
       "      Score-4 Score-3  Score-2  Score-1  \\\n",
       "12656    36.0    21.0     14.0     19.0   \n",
       "\n",
       "                                               sypnopsis  \n",
       "12656  promotional video for Star Wars: The Last Jedi...  \n",
       "\n",
       "[1 rows x 36 columns]"
      ]
     },
     "execution_count": 76,
     "metadata": {},
     "output_type": "execute_result"
    }
   ],
   "source": [
    "anime_full.sample(1)"
   ]
  },
  {
   "cell_type": "code",
   "execution_count": 85,
   "metadata": {},
   "outputs": [],
   "source": [
    "features = [\"Name\", \"Genres\", \"Episodes\",\"Studios\",\"Rating\",\"Score\",\"Aired\",\"sypnopsis\"]"
   ]
  },
  {
   "cell_type": "code",
   "execution_count": 92,
   "metadata": {},
   "outputs": [
    {
     "data": {
      "text/plain": [
       "0"
      ]
     },
     "execution_count": 92,
     "metadata": {},
     "output_type": "execute_result"
    }
   ],
   "source": [
    "anime_full.sypnopsis.fillna(' ', inplace=True)\n",
    "anime_full.isna().sum().sum()"
   ]
  },
  {
   "cell_type": "code",
   "execution_count": 106,
   "metadata": {},
   "outputs": [],
   "source": [
    "featured = anime_full[features].apply(lambda row: '_'.join(row.values.astype(str)), axis=1)"
   ]
  },
  {
   "cell_type": "code",
   "execution_count": 109,
   "metadata": {},
   "outputs": [],
   "source": [
    "featured = featured .replace(',','', regex=True)"
   ]
  },
  {
   "cell_type": "code",
   "execution_count": 110,
   "metadata": {},
   "outputs": [
    {
     "data": {
      "text/plain": [
       "0        Cowboy Bebop_Action Adventure Comedy Drama Sci...\n",
       "1        Cowboy Bebop: Tengoku no Tobira_Action Drama M...\n",
       "2        Trigun_Action Sci-Fi Adventure Comedy Drama Sh...\n",
       "3        Witch Hunter Robin_Action Mystery Police Super...\n",
       "4        Bouken Ou Beet_Adventure Fantasy Shounen Super...\n",
       "                               ...                        \n",
       "16209    Daomu Biji Zhi Qinling Shen Shu_Adventure Myst...\n",
       "16210    Mieruko-chan_Comedy Horror Supernatural_Unknow...\n",
       "16211    Higurashi no Naku Koro ni Sotsu_Mystery Dement...\n",
       "16212    Yama no Susume: Next Summit_Adventure Slice of...\n",
       "16213    Scarlet Nexus_Action Fantasy_Unknown_Sunrise_U...\n",
       "Length: 16214, dtype: object"
      ]
     },
     "execution_count": 110,
     "metadata": {},
     "output_type": "execute_result"
    }
   ],
   "source": [
    "featured"
   ]
  },
  {
   "cell_type": "code",
   "execution_count": 111,
   "metadata": {},
   "outputs": [],
   "source": [
    "vectorizer = TfidfVectorizer()"
   ]
  },
  {
   "cell_type": "code",
   "execution_count": 112,
   "metadata": {},
   "outputs": [],
   "source": [
    "feature_vectors = vectorizer.fit_transform(featured)"
   ]
  },
  {
   "cell_type": "code",
   "execution_count": 115,
   "metadata": {},
   "outputs": [
    {
     "name": "stdout",
     "output_type": "stream",
     "text": [
      "  (0, 11232)\t0.03725364267326765\n",
      "  (0, 48521)\t0.044271829492614094\n",
      "  (0, 36769)\t0.030660488632878506\n",
      "  (0, 47957)\t0.045463325869260246\n",
      "  (0, 35615)\t0.10376615923725806\n",
      "  (0, 64488)\t0.0947534033421958\n",
      "  (0, 34195)\t0.09568642819989229\n",
      "  (0, 19356)\t0.07132644034983315\n",
      "  (0, 73930)\t0.07859394126746425\n",
      "  (0, 65063)\t0.05018313341078838\n",
      "  (0, 33073)\t0.07654365625315983\n",
      "  (0, 42935)\t0.05930743645276868\n",
      "  (0, 10874)\t0.06015152002821227\n",
      "  (0, 22745)\t0.11657222994739565\n",
      "  (0, 33573)\t0.04263447759466045\n",
      "  (0, 73894)\t0.05040065026843234\n",
      "  (0, 43149)\t0.09866657845681602\n",
      "  (0, 52738)\t0.05300673373455562\n",
      "  (0, 48199)\t0.04327725394235146\n",
      "  (0, 22062)\t0.05816531921030628\n",
      "  (0, 45696)\t0.060244033116192315\n",
      "  (0, 24863)\t0.04574103423462512\n",
      "  (0, 72138)\t0.07859394126746425\n",
      "  (0, 11123)\t0.05701905813989433\n",
      "  (0, 69576)\t0.08916321757797344\n",
      "  :\t:\n",
      "  (16213, 54834)\t0.1420230302097039\n",
      "  (16213, 59599)\t0.11225097845781959\n",
      "  (16213, 25432)\t0.11689387634909258\n",
      "  (16213, 24537)\t0.09828180253554712\n",
      "  (16213, 53004)\t0.07416308487976037\n",
      "  (16213, 64985)\t0.04080740185130426\n",
      "  (16213, 51681)\t0.13673738209918992\n",
      "  (16213, 73656)\t0.05731665802162037\n",
      "  (16213, 17346)\t0.05220444202982551\n",
      "  (16213, 28876)\t0.040205626450492464\n",
      "  (16213, 32927)\t0.06250093543372612\n",
      "  (16213, 36345)\t0.05834024960653854\n",
      "  (16213, 69463)\t0.1004789639835961\n",
      "  (16213, 51037)\t0.04127028649960006\n",
      "  (16213, 66339)\t0.08551321113481995\n",
      "  (16213, 12794)\t0.04831187088176411\n",
      "  (16213, 49307)\t0.06076083830625192\n",
      "  (16213, 36619)\t0.036170847294675575\n",
      "  (16213, 71450)\t0.06762278969941161\n",
      "  (16213, 68800)\t0.08579622795179678\n",
      "  (16213, 13968)\t0.043640479632938566\n",
      "  (16213, 17395)\t0.039361187211982535\n",
      "  (16213, 75139)\t0.07134785210478337\n",
      "  (16213, 69361)\t0.09671001632092402\n",
      "  (16213, 69799)\t0.07627872038249484\n"
     ]
    }
   ],
   "source": [
    "print(feature_vectors)"
   ]
  },
  {
   "cell_type": "markdown",
   "metadata": {},
   "source": [
    "Cosine Similarity"
   ]
  },
  {
   "cell_type": "code",
   "execution_count": 116,
   "metadata": {},
   "outputs": [],
   "source": [
    "similarity = cosine_similarity(feature_vectors)"
   ]
  },
  {
   "cell_type": "code",
   "execution_count": 118,
   "metadata": {},
   "outputs": [
    {
     "data": {
      "text/plain": [
       "(16214, 16214)"
      ]
     },
     "execution_count": 118,
     "metadata": {},
     "output_type": "execute_result"
    }
   ],
   "source": [
    "similarity.shape"
   ]
  },
  {
   "cell_type": "markdown",
   "metadata": {},
   "source": [
    "Getting the Anime Name"
   ]
  },
  {
   "cell_type": "code",
   "execution_count": 205,
   "metadata": {},
   "outputs": [],
   "source": [
    "anime_name = input('Enter anime name : ')"
   ]
  },
  {
   "cell_type": "code",
   "execution_count": 206,
   "metadata": {},
   "outputs": [],
   "source": [
    "title_list = anime_full.Name.to_list()"
   ]
  },
  {
   "cell_type": "code",
   "execution_count": 207,
   "metadata": {},
   "outputs": [],
   "source": [
    "find_close_match = difflib.get_close_matches(anime_name, title_list)\n",
    "anime_match = find_close_match[0]\n"
   ]
  },
  {
   "cell_type": "code",
   "execution_count": 213,
   "metadata": {},
   "outputs": [],
   "source": [
    "index_of_anime = anime_full[anime_full.Name == anime_match].index.values[0]"
   ]
  },
  {
   "cell_type": "code",
   "execution_count": 209,
   "metadata": {},
   "outputs": [
    {
     "data": {
      "text/plain": [
       "4216"
      ]
     },
     "execution_count": 209,
     "metadata": {},
     "output_type": "execute_result"
    }
   ],
   "source": [
    "index_of_anime"
   ]
  },
  {
   "cell_type": "code",
   "execution_count": 210,
   "metadata": {},
   "outputs": [],
   "source": [
    "similarity_score = list(enumerate(similarity[index_of_anime]))"
   ]
  },
  {
   "cell_type": "code",
   "execution_count": 211,
   "metadata": {},
   "outputs": [],
   "source": [
    "most_similar_animes = sorted(similarity_score, key=lambda x:x[1], reverse=True)"
   ]
  },
  {
   "cell_type": "code",
   "execution_count": 212,
   "metadata": {},
   "outputs": [
    {
     "name": "stdout",
     "output_type": "stream",
     "text": [
      "Suggested Animes for your sunday night : \n",
      "\n",
      "Ring of Gundam\n",
      "After War Gundam X\n",
      "Mobile Suit Gundam Unicorn: Episode EX - 100 Years of Solitude\n",
      "Mobile Suit Gundam I\n",
      "Ring Ring Boy\n",
      "All That Gundam\n",
      "Mobile Suit Gundam\n",
      "One Piece: Long Ring Long Land-hen\n",
      "Mobile Suit Gundam-san (Movie)\n",
      "Mobile Suit Gundam: Hathaway's Flash\n"
     ]
    }
   ],
   "source": [
    "print(\"Suggested Animes for your sunday night : \\n\")\n",
    "\n",
    "for movie in most_similar_animes[:10]:\n",
    "    print(anime_full[anime_full.index == movie[0]].Name.values[0])"
   ]
  },
  {
   "cell_type": "markdown",
   "metadata": {},
   "source": [
    "Actual Anime Recommendation Tool"
   ]
  },
  {
   "cell_type": "code",
   "execution_count": 217,
   "metadata": {},
   "outputs": [
    {
     "name": "stdout",
     "output_type": "stream",
     "text": [
      "15 Best Suggested Animes for your sunday night : \n",
      "\n",
      "Haikyuu!!\n",
      "Haikyuu!!: To the Top\n",
      "Haikyuu!! Second Season\n",
      "Ashita e Attack!\n",
      "Attack No.1 (1970)\n",
      "Attacker You!\n",
      "Attack No.1\n",
      "Haikyuu!!: Karasuno Koukou vs. Shiratorizawa Gakuen Koukou\n",
      "2.43: Seiin Koukou Danshi Volley-bu\n",
      "Shoujo Fight: Norainu-tachi no Odekake\n",
      "Haikyuu!!: vs. \"Akaten\"\n",
      "Haikyuu!!: To the Top 2nd Season\n",
      "Moshidora\n",
      "Tennis no Ouji-sama\n",
      "Diamond no Ace\n"
     ]
    }
   ],
   "source": [
    "anime_name = input('Enter anime name : ')\n",
    "title_list = anime_full.Name.to_list()\n",
    "find_close_match = difflib.get_close_matches(anime_name, title_list)\n",
    "anime_match = find_close_match[0]\n",
    "index_of_anime = anime_full[anime_full.Name == anime_match].index.values[0]\n",
    "similarity_score = list(enumerate(similarity[index_of_anime]))\n",
    "most_similar_animes = sorted(similarity_score, key=lambda x:x[1], reverse=True)\n",
    "print(\"15 Best Suggested Animes for your sunday night : \\n\")\n",
    "for movie in most_similar_animes[:15]:\n",
    "    print(anime_full[anime_full.index == movie[0]].Name.values[0])\n"
   ]
  },
  {
   "cell_type": "code",
   "execution_count": 216,
   "metadata": {},
   "outputs": [
    {
     "data": {
      "text/plain": [
       "[]"
      ]
     },
     "execution_count": 216,
     "metadata": {},
     "output_type": "execute_result"
    }
   ],
   "source": [
    "find_close_match"
   ]
  },
  {
   "cell_type": "code",
   "execution_count": null,
   "metadata": {},
   "outputs": [],
   "source": []
  }
 ],
 "metadata": {
  "kernelspec": {
   "display_name": "Python 3.10.6 64-bit (windows store)",
   "language": "python",
   "name": "python3"
  },
  "language_info": {
   "codemirror_mode": {
    "name": "ipython",
    "version": 3
   },
   "file_extension": ".py",
   "mimetype": "text/x-python",
   "name": "python",
   "nbconvert_exporter": "python",
   "pygments_lexer": "ipython3",
   "version": "3.10.6"
  },
  "orig_nbformat": 4,
  "vscode": {
   "interpreter": {
    "hash": "a141e979f47d0321f552a3a7e629b4f252c2696d405db34dd45befa51abe3df3"
   }
  }
 },
 "nbformat": 4,
 "nbformat_minor": 2
}
