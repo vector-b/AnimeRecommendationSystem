{
 "cells": [
  {
   "cell_type": "code",
   "execution_count": 4,
   "metadata": {},
   "outputs": [],
   "source": [
    "#!pip install kaggle"
   ]
  },
  {
   "cell_type": "markdown",
   "metadata": {},
   "source": [
    "## Imports e Especificações de Libs"
   ]
  },
  {
   "cell_type": "code",
   "execution_count": 19,
   "metadata": {},
   "outputs": [],
   "source": [
    "import pandas as pd \n",
    "import numpy as np \n",
    "from sklearn.metrics.pairwise import cosine_similarity\n",
    "from sklearn.feature_extraction.text import CountVectorizer"
   ]
  },
  {
   "cell_type": "markdown",
   "metadata": {},
   "source": [
    "## EDA"
   ]
  },
  {
   "cell_type": "code",
   "execution_count": 3,
   "metadata": {},
   "outputs": [],
   "source": [
    "path_to_data = r\"data/\""
   ]
  },
  {
   "cell_type": "code",
   "execution_count": 23,
   "metadata": {},
   "outputs": [],
   "source": [
    "user_review = pd.read_csv(f'{path_to_data}animelist.csv')\n",
    "anime_list = pd.read_csv(f'{path_to_data}anime.csv')\n",
    "anime_description = pd.read_csv(f'{path_to_data}anime_with_synopsis.csv')"
   ]
  },
  {
   "cell_type": "code",
   "execution_count": 24,
   "metadata": {},
   "outputs": [
    {
     "data": {
      "text/plain": [
       "325770"
      ]
     },
     "execution_count": 24,
     "metadata": {},
     "output_type": "execute_result"
    }
   ],
   "source": [
    "#How many users\n",
    "len(user_review.user_id.unique())"
   ]
  },
  {
   "cell_type": "code",
   "execution_count": 25,
   "metadata": {},
   "outputs": [
    {
     "name": "stdout",
     "output_type": "stream",
     "text": [
      "0 user_id              0\n",
      "anime_id            67\n",
      "rating               9\n",
      "watching_status      1\n",
      "watched_episodes     1\n",
      "Name: 0, dtype: int64\n",
      "1 user_id                0\n",
      "anime_id            6702\n",
      "rating                 7\n",
      "watching_status        1\n",
      "watched_episodes       4\n",
      "Name: 1, dtype: int64\n",
      "2 user_id               0\n",
      "anime_id            242\n",
      "rating               10\n",
      "watching_status       1\n",
      "watched_episodes      4\n",
      "Name: 2, dtype: int64\n",
      "3 user_id                0\n",
      "anime_id            4898\n",
      "rating                 0\n",
      "watching_status        1\n",
      "watched_episodes       1\n",
      "Name: 3, dtype: int64\n",
      "4 user_id              0\n",
      "anime_id            21\n",
      "rating              10\n",
      "watching_status      1\n",
      "watched_episodes     0\n",
      "Name: 4, dtype: int64\n",
      "5 user_id              0\n",
      "anime_id            24\n",
      "rating               9\n",
      "watching_status      1\n",
      "watched_episodes     5\n",
      "Name: 5, dtype: int64\n",
      "6 user_id                0\n",
      "anime_id            2104\n",
      "rating                 0\n",
      "watching_status        1\n",
      "watched_episodes       4\n",
      "Name: 6, dtype: int64\n",
      "7 user_id                0\n",
      "anime_id            4722\n",
      "rating                 8\n",
      "watching_status        1\n",
      "watched_episodes       4\n",
      "Name: 7, dtype: int64\n",
      "8 user_id                0\n",
      "anime_id            6098\n",
      "rating                 6\n",
      "watching_status        1\n",
      "watched_episodes       2\n",
      "Name: 8, dtype: int64\n",
      "9 user_id                0\n",
      "anime_id            3125\n",
      "rating                 9\n",
      "watching_status        1\n",
      "watched_episodes      29\n",
      "Name: 9, dtype: int64\n",
      "10 user_id               0\n",
      "anime_id            481\n",
      "rating               10\n",
      "watching_status       1\n",
      "watched_episodes     79\n",
      "Name: 10, dtype: int64\n",
      "11 user_id              0\n",
      "anime_id            68\n",
      "rating               6\n",
      "watching_status      2\n",
      "watched_episodes    23\n",
      "Name: 11, dtype: int64\n"
     ]
    }
   ],
   "source": [
    "#Showing first 10 anime ratings\n",
    "for index, row in user_review.iterrows():\n",
    "    print(index,row)\n",
    "    if(index > 10):\n",
    "        break"
   ]
  },
  {
   "cell_type": "code",
   "execution_count": 22,
   "metadata": {},
   "outputs": [
    {
     "data": {
      "text/plain": [
       "Index(['MAL_ID', 'Name', 'Score', 'Genres', 'English name', 'Japanese name',\n",
       "       'Type', 'Episodes', 'Aired', 'Premiered', 'Producers', 'Licensors',\n",
       "       'Studios', 'Source', 'Duration', 'Rating', 'Ranked', 'Popularity',\n",
       "       'Members', 'Favorites', 'Watching', 'Completed', 'On-Hold', 'Dropped',\n",
       "       'Plan to Watch', 'Score-10', 'Score-9', 'Score-8', 'Score-7', 'Score-6',\n",
       "       'Score-5', 'Score-4', 'Score-3', 'Score-2', 'Score-1'],\n",
       "      dtype='object')"
      ]
     },
     "execution_count": 22,
     "metadata": {},
     "output_type": "execute_result"
    }
   ],
   "source": [
    "anime_list.columns"
   ]
  },
  {
   "cell_type": "code",
   "execution_count": 43,
   "metadata": {},
   "outputs": [],
   "source": [
    "anime_full = pd.merge(anime_list, anime_description[[\"MAL_ID\",\"sypnopsis\"]], how='inner', on=\"MAL_ID\")"
   ]
  },
  {
   "cell_type": "code",
   "execution_count": 44,
   "metadata": {},
   "outputs": [
    {
     "data": {
      "text/plain": [
       "Index(['MAL_ID', 'Name', 'Score', 'Genres', 'sypnopsis'], dtype='object')"
      ]
     },
     "execution_count": 44,
     "metadata": {},
     "output_type": "execute_result"
    }
   ],
   "source": [
    "anime_description.columns"
   ]
  },
  {
   "cell_type": "markdown",
   "metadata": {},
   "source": [
    "Missing Data"
   ]
  },
  {
   "cell_type": "code",
   "execution_count": 46,
   "metadata": {},
   "outputs": [
    {
     "data": {
      "text/plain": [
       "Score-4      0\n",
       "Score-3      0\n",
       "Score-2      0\n",
       "Score-1      0\n",
       "sypnopsis    8\n",
       "dtype: int64"
      ]
     },
     "execution_count": 46,
     "metadata": {},
     "output_type": "execute_result"
    }
   ],
   "source": [
    "anime_full.isnull().sum().tail(5)"
   ]
  },
  {
   "cell_type": "markdown",
   "metadata": {},
   "source": [
    "Choosing Features"
   ]
  },
  {
   "cell_type": "code",
   "execution_count": 60,
   "metadata": {},
   "outputs": [
    {
     "data": {
      "text/html": [
       "<div>\n",
       "<style scoped>\n",
       "    .dataframe tbody tr th:only-of-type {\n",
       "        vertical-align: middle;\n",
       "    }\n",
       "\n",
       "    .dataframe tbody tr th {\n",
       "        vertical-align: top;\n",
       "    }\n",
       "\n",
       "    .dataframe thead th {\n",
       "        text-align: right;\n",
       "    }\n",
       "</style>\n",
       "<table border=\"1\" class=\"dataframe\">\n",
       "  <thead>\n",
       "    <tr style=\"text-align: right;\">\n",
       "      <th></th>\n",
       "      <th>MAL_ID</th>\n",
       "      <th>Name</th>\n",
       "      <th>Score</th>\n",
       "      <th>Genres</th>\n",
       "      <th>English name</th>\n",
       "      <th>Japanese name</th>\n",
       "      <th>Type</th>\n",
       "      <th>Episodes</th>\n",
       "      <th>Aired</th>\n",
       "      <th>Premiered</th>\n",
       "      <th>...</th>\n",
       "      <th>Score-9</th>\n",
       "      <th>Score-8</th>\n",
       "      <th>Score-7</th>\n",
       "      <th>Score-6</th>\n",
       "      <th>Score-5</th>\n",
       "      <th>Score-4</th>\n",
       "      <th>Score-3</th>\n",
       "      <th>Score-2</th>\n",
       "      <th>Score-1</th>\n",
       "      <th>sypnopsis</th>\n",
       "    </tr>\n",
       "  </thead>\n",
       "  <tbody>\n",
       "    <tr>\n",
       "      <th>9438</th>\n",
       "      <td>30364</td>\n",
       "      <td>Haikyuu!! Movie 2: Shousha to Haisha</td>\n",
       "      <td>7.94</td>\n",
       "      <td>Comedy, Sports, Drama, School, Shounen</td>\n",
       "      <td>Unknown</td>\n",
       "      <td>ハイキュー!! 勝者と敗者</td>\n",
       "      <td>Movie</td>\n",
       "      <td>1</td>\n",
       "      <td>Sep 18, 2015</td>\n",
       "      <td>Unknown</td>\n",
       "      <td>...</td>\n",
       "      <td>2668.0</td>\n",
       "      <td>4893.0</td>\n",
       "      <td>3697.0</td>\n",
       "      <td>1186.0</td>\n",
       "      <td>496.0</td>\n",
       "      <td>134.0</td>\n",
       "      <td>26.0</td>\n",
       "      <td>16.0</td>\n",
       "      <td>207.0</td>\n",
       "      <td>Second Haikyuu!! recap movie.</td>\n",
       "    </tr>\n",
       "  </tbody>\n",
       "</table>\n",
       "<p>1 rows × 36 columns</p>\n",
       "</div>"
      ],
      "text/plain": [
       "      MAL_ID                                  Name Score  \\\n",
       "9438   30364  Haikyuu!! Movie 2: Shousha to Haisha  7.94   \n",
       "\n",
       "                                      Genres English name  Japanese name  \\\n",
       "9438  Comedy, Sports, Drama, School, Shounen      Unknown  ハイキュー!! 勝者と敗者   \n",
       "\n",
       "       Type Episodes         Aired Premiered  ... Score-9 Score-8 Score-7  \\\n",
       "9438  Movie        1  Sep 18, 2015   Unknown  ...  2668.0  4893.0  3697.0   \n",
       "\n",
       "     Score-6 Score-5 Score-4 Score-3  Score-2  Score-1  \\\n",
       "9438  1186.0   496.0   134.0    26.0     16.0    207.0   \n",
       "\n",
       "                          sypnopsis  \n",
       "9438  Second Haikyuu!! recap movie.  \n",
       "\n",
       "[1 rows x 36 columns]"
      ]
     },
     "execution_count": 60,
     "metadata": {},
     "output_type": "execute_result"
    }
   ],
   "source": [
    "anime_full.sample(1)"
   ]
  },
  {
   "cell_type": "code",
   "execution_count": 48,
   "metadata": {},
   "outputs": [
    {
     "ename": "SyntaxError",
     "evalue": "invalid syntax (1657071166.py, line 1)",
     "output_type": "error",
     "traceback": [
      "\u001b[1;36m  Input \u001b[1;32mIn [48]\u001b[1;36m\u001b[0m\n\u001b[1;33m    features =\u001b[0m\n\u001b[1;37m               ^\u001b[0m\n\u001b[1;31mSyntaxError\u001b[0m\u001b[1;31m:\u001b[0m invalid syntax\n"
     ]
    }
   ],
   "source": [
    "features = [\"Name\", \"Genres\", \"Episodes\", \"sypnopsis\"]"
   ]
  },
  {
   "cell_type": "code",
   "execution_count": null,
   "metadata": {},
   "outputs": [],
   "source": []
  }
 ],
 "metadata": {
  "kernelspec": {
   "display_name": "Python 3.10.6 64-bit (windows store)",
   "language": "python",
   "name": "python3"
  },
  "language_info": {
   "codemirror_mode": {
    "name": "ipython",
    "version": 3
   },
   "file_extension": ".py",
   "mimetype": "text/x-python",
   "name": "python",
   "nbconvert_exporter": "python",
   "pygments_lexer": "ipython3",
   "version": "3.10.6"
  },
  "orig_nbformat": 4,
  "vscode": {
   "interpreter": {
    "hash": "a141e979f47d0321f552a3a7e629b4f252c2696d405db34dd45befa51abe3df3"
   }
  }
 },
 "nbformat": 4,
 "nbformat_minor": 2
}
